{
 "cells": [
  {
   "cell_type": "code",
   "execution_count": 1,
   "id": "3e3f259d",
   "metadata": {},
   "outputs": [],
   "source": [
    "import requests\n",
    "from bs4 import BeautifulSoup as bs\n",
    "import pandas as pd\n",
    "import time"
   ]
  },
  {
   "cell_type": "code",
   "execution_count": 2,
   "id": "b12ad463",
   "metadata": {},
   "outputs": [],
   "source": [
    "letters = 'ABCDEFGHIJKLMNOPQRSTUVWYZ'.lower()"
   ]
  },
  {
   "cell_type": "code",
   "execution_count": 3,
   "id": "7ee4f371",
   "metadata": {},
   "outputs": [
    {
     "name": "stdout",
     "output_type": "stream",
     "text": [
      "Letter a\n",
      "Letter b\n",
      "Letter c\n",
      "Letter d\n",
      "Letter e\n",
      "Letter f\n",
      "Letter g\n",
      "Letter h\n",
      "Letter i\n",
      "Letter j\n",
      "Letter k\n",
      "Letter l\n",
      "Letter m\n",
      "Letter n\n",
      "Letter o\n",
      "Letter p\n",
      "Letter q\n",
      "Letter r\n",
      "Letter s\n",
      "Letter t\n",
      "Letter u\n",
      "Letter v\n",
      "Letter w\n",
      "Letter y\n",
      "Letter z\n"
     ]
    }
   ],
   "source": [
    "players = []\n",
    "for idx, letter in enumerate(letters):\n",
    "    print(f'Letter {letter}')\n",
    "    time.sleep(idx)\n",
    "    url = f'https://www.basketball-reference.com/players/{letter}'\n",
    "    req = requests.get(url)\n",
    "    soup = bs(req.content, 'lxml')\n",
    "    \n",
    "    table = soup.find('table', {'id': 'players'})\n",
    "    body = table.find('tbody')\n",
    "    rows = body.find_all('tr')\n",
    "    \n",
    "    for row in rows:\n",
    "        cols = row.find_all('td')\n",
    "        active = row.find('strong')\n",
    "        \n",
    "        if cols and active:\n",
    "            player = {}\n",
    "            player['Name'] = active.find('a').text\n",
    "            player['href'] = active.find('a').get('href')\n",
    "            \n",
    "            players.append(player)"
   ]
  },
  {
   "cell_type": "code",
   "execution_count": 4,
   "id": "5cd6aab6",
   "metadata": {},
   "outputs": [],
   "source": [
    "pd.DataFrame(players).to_csv('Player_URL_Stats_Real.csv', index=0)"
   ]
  }
 ],
 "metadata": {
  "kernelspec": {
   "display_name": "Python 3 (ipykernel)",
   "language": "python",
   "name": "python3"
  },
  "language_info": {
   "codemirror_mode": {
    "name": "ipython",
    "version": 3
   },
   "file_extension": ".py",
   "mimetype": "text/x-python",
   "name": "python",
   "nbconvert_exporter": "python",
   "pygments_lexer": "ipython3",
   "version": "3.9.13"
  }
 },
 "nbformat": 4,
 "nbformat_minor": 5
}
