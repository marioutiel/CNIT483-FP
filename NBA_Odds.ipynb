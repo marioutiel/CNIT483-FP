{
 "cells": [
  {
   "cell_type": "code",
   "execution_count": 6,
   "id": "9902f262",
   "metadata": {},
   "outputs": [],
   "source": [
    "import requests\n",
    "from bs4 import BeautifulSoup as bs\n",
    "import pandas as pd"
   ]
  },
  {
   "cell_type": "code",
   "execution_count": 7,
   "id": "0159d3f5",
   "metadata": {},
   "outputs": [],
   "source": [
    "url = \"https://sportsbook.draftkings.com/leagues/basketball/nba?category=player-combos&subcategory=pts-+-reb-+-ast\"\n",
    "req = requests.get(url)\n",
    "soup = bs(req.content, 'lxml')"
   ]
  },
  {
   "cell_type": "code",
   "execution_count": 8,
   "id": "e6e9efb6",
   "metadata": {
    "scrolled": true
   },
   "outputs": [],
   "source": [
    "games_lines = soup.find_all('div', {'class': 'sportsbook-event-accordion__wrapper expanded'})"
   ]
  },
  {
   "cell_type": "code",
   "execution_count": 9,
   "id": "8f6de779",
   "metadata": {},
   "outputs": [
    {
     "name": "stdout",
     "output_type": "stream",
     "text": [
      "Game 0\n",
      "# Players: 8\n",
      "Game 1\n",
      "# Players: 10\n",
      "Game 2\n",
      "# Players: 9\n",
      "Game 3\n",
      "# Players: 4\n"
     ]
    }
   ],
   "source": [
    "players = []\n",
    "for idx, game_line in enumerate(games_lines):\n",
    "    game = game_line.find_all('tr')\n",
    "    \n",
    "    if game:\n",
    "        print(f'Game {idx}')\n",
    "        print(f'# Players: {len(game)}')\n",
    "        \n",
    "        for player_line in game[1:]:\n",
    "            player = {}\n",
    "            player['Name'] = player_line.find('div', \n",
    "                                              {'class': 'sportsbook-row-name__wrapper'}\n",
    "                                             ).find('span',\n",
    "                                                   {'class': 'sportsbook-row-name'}).text\n",
    "            player_lines = player_line.find_all('td',\n",
    "                                             {'class': 'sportsbook-table__column-row'}\n",
    "                                            )\n",
    "            if player_lines:\n",
    "                for line in player_lines:\n",
    "                    bet_line = line.find('span',\n",
    "                                        {'class': 'sportsbook-outcome-cell__line'}\n",
    "                                        ).text\n",
    "                    player['Bet'] = float(bet_line)\n",
    "                    \n",
    "                    label = line.find('span',\n",
    "                                      {'class': 'sportsbook-outcome-cell__label'}\n",
    "                                      ).text\n",
    "                    player[label] = line.find('span',\n",
    "                                             {'class': 'sportsbook-odds american default-color'}\n",
    "                                             ).text\n",
    "            \n",
    "            players.append(player)"
   ]
  },
  {
   "cell_type": "code",
   "execution_count": 10,
   "id": "f1d3b663",
   "metadata": {},
   "outputs": [],
   "source": [
    "pd.DataFrame(players).to_csv('NBA_Odds.csv', index=0)"
   ]
  }
 ],
 "metadata": {
  "kernelspec": {
   "display_name": "Python 3 (ipykernel)",
   "language": "python",
   "name": "python3"
  },
  "language_info": {
   "codemirror_mode": {
    "name": "ipython",
    "version": 3
   },
   "file_extension": ".py",
   "mimetype": "text/x-python",
   "name": "python",
   "nbconvert_exporter": "python",
   "pygments_lexer": "ipython3",
   "version": "3.9.13"
  }
 },
 "nbformat": 4,
 "nbformat_minor": 5
}
