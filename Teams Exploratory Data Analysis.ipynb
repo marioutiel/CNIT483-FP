{
 "cells": [
  {
   "cell_type": "code",
   "execution_count": 1,
   "metadata": {},
   "outputs": [
    {
     "name": "stderr",
     "output_type": "stream",
     "text": [
      "<frozen importlib._bootstrap>:219: RuntimeWarning: numpy.ufunc size changed, may indicate binary incompatibility. Expected 192 from C header, got 216 from PyObject\n"
     ]
    }
   ],
   "source": [
    "import numpy as np\n",
    "import pandas as pd\n",
    "import matplotlib.pyplot as plt"
   ]
  },
  {
   "cell_type": "code",
   "execution_count": 4,
   "metadata": {},
   "outputs": [
    {
     "data": {
      "text/html": [
       "<div>\n",
       "<style scoped>\n",
       "    .dataframe tbody tr th:only-of-type {\n",
       "        vertical-align: middle;\n",
       "    }\n",
       "\n",
       "    .dataframe tbody tr th {\n",
       "        vertical-align: top;\n",
       "    }\n",
       "\n",
       "    .dataframe thead th {\n",
       "        text-align: right;\n",
       "    }\n",
       "</style>\n",
       "<table border=\"1\" class=\"dataframe\">\n",
       "  <thead>\n",
       "    <tr style=\"text-align: right;\">\n",
       "      <th></th>\n",
       "      <th>local_team</th>\n",
       "      <th>local_Team_W</th>\n",
       "      <th>local_Team_L</th>\n",
       "      <th>local_Team_MOV</th>\n",
       "      <th>local_Team_SRS</th>\n",
       "      <th>local_Team_ORtg</th>\n",
       "      <th>local_Team_DRtg</th>\n",
       "      <th>local_Team_FTr</th>\n",
       "      <th>local_Team_eFG%</th>\n",
       "      <th>local_Team_TOV%</th>\n",
       "      <th>...</th>\n",
       "      <th>local_LgRank_DRtg</th>\n",
       "      <th>local_LgRank_FTr</th>\n",
       "      <th>local_LgRank_eFG%</th>\n",
       "      <th>local_LgRank_TOV%</th>\n",
       "      <th>local_LgRank_ORB%</th>\n",
       "      <th>local_LgRank_FT/FGA</th>\n",
       "      <th>local_LgRank_opp_eFG%</th>\n",
       "      <th>local_LgRank_opp_TOV%</th>\n",
       "      <th>local_LgRank_DRB%</th>\n",
       "      <th>local_LgRank_opp_FT/FGA</th>\n",
       "    </tr>\n",
       "  </thead>\n",
       "  <tbody>\n",
       "    <tr>\n",
       "      <th>0</th>\n",
       "      <td>ATL</td>\n",
       "      <td>41</td>\n",
       "      <td>41</td>\n",
       "      <td>0.29</td>\n",
       "      <td>0.32</td>\n",
       "      <td>116.6</td>\n",
       "      <td>116.3</td>\n",
       "      <td>0.244</td>\n",
       "      <td>0.541</td>\n",
       "      <td>11.2</td>\n",
       "      <td>...</td>\n",
       "      <td>22.0</td>\n",
       "      <td>26.0</td>\n",
       "      <td>19.0</td>\n",
       "      <td>2.0</td>\n",
       "      <td>8.0</td>\n",
       "      <td>22.0</td>\n",
       "      <td>22.0</td>\n",
       "      <td>15.0</td>\n",
       "      <td>19.0</td>\n",
       "      <td>12.0</td>\n",
       "    </tr>\n",
       "    <tr>\n",
       "      <th>1</th>\n",
       "      <td>BOS</td>\n",
       "      <td>57</td>\n",
       "      <td>25</td>\n",
       "      <td>6.52</td>\n",
       "      <td>6.38</td>\n",
       "      <td>118.0</td>\n",
       "      <td>111.5</td>\n",
       "      <td>0.243</td>\n",
       "      <td>0.566</td>\n",
       "      <td>12.0</td>\n",
       "      <td>...</td>\n",
       "      <td>3.0</td>\n",
       "      <td>27.0</td>\n",
       "      <td>4.0</td>\n",
       "      <td>8.0</td>\n",
       "      <td>25.0</td>\n",
       "      <td>23.0</td>\n",
       "      <td>3.0</td>\n",
       "      <td>26.0</td>\n",
       "      <td>1.0</td>\n",
       "      <td>3.0</td>\n",
       "    </tr>\n",
       "    <tr>\n",
       "      <th>2</th>\n",
       "      <td>BRK</td>\n",
       "      <td>45</td>\n",
       "      <td>37</td>\n",
       "      <td>0.85</td>\n",
       "      <td>1.03</td>\n",
       "      <td>115.0</td>\n",
       "      <td>114.1</td>\n",
       "      <td>0.260</td>\n",
       "      <td>0.562</td>\n",
       "      <td>12.7</td>\n",
       "      <td>...</td>\n",
       "      <td>13.0</td>\n",
       "      <td>18.0</td>\n",
       "      <td>7.0</td>\n",
       "      <td>16.0</td>\n",
       "      <td>29.0</td>\n",
       "      <td>15.0</td>\n",
       "      <td>4.0</td>\n",
       "      <td>18.0</td>\n",
       "      <td>28.0</td>\n",
       "      <td>18.0</td>\n",
       "    </tr>\n",
       "    <tr>\n",
       "      <th>3</th>\n",
       "      <td>CHO</td>\n",
       "      <td>27</td>\n",
       "      <td>55</td>\n",
       "      <td>-6.24</td>\n",
       "      <td>-5.89</td>\n",
       "      <td>109.2</td>\n",
       "      <td>115.3</td>\n",
       "      <td>0.261</td>\n",
       "      <td>0.516</td>\n",
       "      <td>12.3</td>\n",
       "      <td>...</td>\n",
       "      <td>20.0</td>\n",
       "      <td>17.0</td>\n",
       "      <td>29.0</td>\n",
       "      <td>13.0</td>\n",
       "      <td>16.0</td>\n",
       "      <td>24.0</td>\n",
       "      <td>18.0</td>\n",
       "      <td>14.0</td>\n",
       "      <td>22.0</td>\n",
       "      <td>17.0</td>\n",
       "    </tr>\n",
       "    <tr>\n",
       "      <th>4</th>\n",
       "      <td>CHI</td>\n",
       "      <td>40</td>\n",
       "      <td>42</td>\n",
       "      <td>1.29</td>\n",
       "      <td>1.37</td>\n",
       "      <td>113.5</td>\n",
       "      <td>112.2</td>\n",
       "      <td>0.251</td>\n",
       "      <td>0.550</td>\n",
       "      <td>12.2</td>\n",
       "      <td>...</td>\n",
       "      <td>5.0</td>\n",
       "      <td>24.0</td>\n",
       "      <td>12.0</td>\n",
       "      <td>10.0</td>\n",
       "      <td>28.0</td>\n",
       "      <td>19.0</td>\n",
       "      <td>17.0</td>\n",
       "      <td>5.0</td>\n",
       "      <td>2.0</td>\n",
       "      <td>6.0</td>\n",
       "    </tr>\n",
       "  </tbody>\n",
       "</table>\n",
       "<p>5 rows × 31 columns</p>\n",
       "</div>"
      ],
      "text/plain": [
       "  local_team  local_Team_W  local_Team_L  local_Team_MOV  local_Team_SRS  \\\n",
       "0        ATL            41            41            0.29            0.32   \n",
       "1        BOS            57            25            6.52            6.38   \n",
       "2        BRK            45            37            0.85            1.03   \n",
       "3        CHO            27            55           -6.24           -5.89   \n",
       "4        CHI            40            42            1.29            1.37   \n",
       "\n",
       "   local_Team_ORtg  local_Team_DRtg  local_Team_FTr  local_Team_eFG%  \\\n",
       "0            116.6            116.3           0.244            0.541   \n",
       "1            118.0            111.5           0.243            0.566   \n",
       "2            115.0            114.1           0.260            0.562   \n",
       "3            109.2            115.3           0.261            0.516   \n",
       "4            113.5            112.2           0.251            0.550   \n",
       "\n",
       "   local_Team_TOV%  ...  local_LgRank_DRtg  local_LgRank_FTr  \\\n",
       "0             11.2  ...               22.0              26.0   \n",
       "1             12.0  ...                3.0              27.0   \n",
       "2             12.7  ...               13.0              18.0   \n",
       "3             12.3  ...               20.0              17.0   \n",
       "4             12.2  ...                5.0              24.0   \n",
       "\n",
       "   local_LgRank_eFG%  local_LgRank_TOV%  local_LgRank_ORB%  \\\n",
       "0               19.0                2.0                8.0   \n",
       "1                4.0                8.0               25.0   \n",
       "2                7.0               16.0               29.0   \n",
       "3               29.0               13.0               16.0   \n",
       "4               12.0               10.0               28.0   \n",
       "\n",
       "   local_LgRank_FT/FGA  local_LgRank_opp_eFG%  local_LgRank_opp_TOV%  \\\n",
       "0                 22.0                   22.0                   15.0   \n",
       "1                 23.0                    3.0                   26.0   \n",
       "2                 15.0                    4.0                   18.0   \n",
       "3                 24.0                   18.0                   14.0   \n",
       "4                 19.0                   17.0                    5.0   \n",
       "\n",
       "   local_LgRank_DRB%  local_LgRank_opp_FT/FGA  \n",
       "0               19.0                     12.0  \n",
       "1                1.0                      3.0  \n",
       "2               28.0                     18.0  \n",
       "3               22.0                     17.0  \n",
       "4                2.0                      6.0  \n",
       "\n",
       "[5 rows x 31 columns]"
      ]
     },
     "execution_count": 4,
     "metadata": {},
     "output_type": "execute_result"
    }
   ],
   "source": [
    "teams_df = pd.read_csv('local_teams.csv')\n",
    "teams_df.head()"
   ]
  },
  {
   "cell_type": "code",
   "execution_count": 18,
   "metadata": {},
   "outputs": [
    {
     "data": {
      "text/plain": [
       "Index(['local_team', 'local_Team_W', 'local_Team_L', 'local_Team_MOV',\n",
       "       'local_Team_SRS', 'local_Team_ORtg', 'local_Team_DRtg',\n",
       "       'local_Team_FTr', 'local_Team_eFG%', 'local_Team_TOV%',\n",
       "       'local_Team_ORB%', 'local_Team_FT/FGA', 'local_Team_opp_eFG%',\n",
       "       'local_Team_opp_TOV%', 'local_Team_DRB%', 'local_Team_opp_FT/FGA',\n",
       "       'local_LgRank_W', 'local_LgRank_L', 'local_LgRank_MOV',\n",
       "       'local_LgRank_SRS', 'local_LgRank_ORtg', 'local_LgRank_DRtg',\n",
       "       'local_LgRank_FTr', 'local_LgRank_eFG%', 'local_LgRank_TOV%',\n",
       "       'local_LgRank_ORB%', 'local_LgRank_FT/FGA', 'local_LgRank_opp_eFG%',\n",
       "       'local_LgRank_opp_TOV%', 'local_LgRank_DRB%',\n",
       "       'local_LgRank_opp_FT/FGA'],\n",
       "      dtype='object')"
      ]
     },
     "execution_count": 18,
     "metadata": {},
     "output_type": "execute_result"
    }
   ],
   "source": [
    "teams_df.columns"
   ]
  },
  {
   "cell_type": "code",
   "execution_count": 16,
   "metadata": {},
   "outputs": [
    {
     "data": {
      "image/png": "[encoded data removed]",
      "text/plain": [
       "<Figure size 432x288 with 2 Axes>"
      ]
     },
     "metadata": {
      "needs_background": "light"
     },
     "output_type": "display_data"
    }
   ],
   "source": [
    "plt.subplot(1,2,1)\n",
    "plt.boxplot(teams_df.local_Team_ORtg)\n",
    "plt.title('Offensive Rating')\n",
    "\n",
    "plt.subplot(1,2,2)\n",
    "plt.boxplot(teams_df.local_Team_DRtg)\n",
    "plt.title('Defensive Rating')\n",
    "\n",
    "plt.show()"
   ]
  },
  {
   "cell_type": "code",
   "execution_count": 35,
   "metadata": {},
   "outputs": [
    {
     "data": {
      "text/plain": [
       "Text(0, 0.5, 'Defensive Rating')"
      ]
     },
     "execution_count": 35,
     "metadata": {},
     "output_type": "execute_result"
    },
    {
     "data": {
      "image/png": "[encoded data removed]",
      "text/plain": [
       "<Figure size 432x288 with 1 Axes>"
      ]
     },
     "metadata": {
      "needs_background": "light"
     },
     "output_type": "display_data"
    }
   ],
   "source": [
    "plt.scatter(teams_df.local_Team_ORtg, teams_df.local_Team_DRtg, c=teams_df.local_LgRank_W)\n",
    "plt.xlabel('Offensive Rating')\n",
    "plt.ylabel('Defensive Rating')"
   ]
  },
  {
   "cell_type": "code",
   "execution_count": 36,
   "metadata": {},
   "outputs": [
    {
     "data": {
      "text/plain": [
       "Text(0, 0.5, 'Number of Wins')"
      ]
     },
     "execution_count": 36,
     "metadata": {},
     "output_type": "execute_result"
    },
    {
     "data": {
      "image/png": "[encoded data removed]",
      "text/plain": [
       "<Figure size 432x288 with 1 Axes>"
      ]
     },
     "metadata": {
      "needs_background": "light"
     },
     "output_type": "display_data"
    }
   ],
   "source": [
    "plt.scatter(teams_df.local_Team_MOV, teams_df.local_Team_W, c=teams_df.local_LgRank_W)\n",
    "plt.xlabel('Margin Of Victory')\n",
    "plt.ylabel('Number of Wins')"
   ]
  }
 ],
 "metadata": {
  "kernelspec": {
   "display_name": "Python 3",
   "language": "python",
   "name": "python3"
  },
  "language_info": {
   "codemirror_mode": {
    "name": "ipython",
    "version": 3
   },
   "file_extension": ".py",
   "mimetype": "text/x-python",
   "name": "python",
   "nbconvert_exporter": "python",
   "pygments_lexer": "ipython3",
   "version": "3.8.3"
  }
 },
 "nbformat": 4,
 "nbformat_minor": 4
}
