{
 "cells": [
  {
   "cell_type": "code",
   "execution_count": 1,
   "id": "cd52d723",
   "metadata": {},
   "outputs": [],
   "source": [
    "from selenium.webdriver import Firefox\n",
    "from selenium.common.exceptions import TimeoutException\n",
    "from bs4 import BeautifulSoup as bs\n",
    "import pandas as pd\n",
    "import time"
   ]
  },
  {
   "cell_type": "code",
   "execution_count": 2,
   "id": "7914e40b",
   "metadata": {},
   "outputs": [],
   "source": [
    "team_names = ['ATL', 'BOS', 'BRK', 'CHO', 'CHI', 'CLE', 'DAL', 'DEN',\n",
    "         'DET', 'GSW', 'HOU', 'IND', 'LAC', 'LAL', 'MEM', 'MIA',\n",
    "         'MIL', 'MIN', 'NOP', 'NYK', 'OKC', 'ORL', 'PHI', 'PHO',\n",
    "         'POR', 'SAC', 'SAS', 'TOR', 'UTA', 'WAS']"
   ]
  },
  {
   "cell_type": "code",
   "execution_count": 3,
   "id": "7fcc42d9",
   "metadata": {},
   "outputs": [],
   "source": [
    "def get_team_stats(start, url):\n",
    "    data = {start+'team': f'{url[-13:-10]}'}\n",
    "        \n",
    "    html = None\n",
    "    for i in range(3):\n",
    "        try:\n",
    "            driver.get(url)\n",
    "\n",
    "            html = driver.page_source\n",
    "            soup = bs(html, 'lxml')\n",
    "            \n",
    "        except TimeoutException:\n",
    "            print(f'{i}: TimeoutError on {url[-11:-14]}')\n",
    "            continue\n",
    "        else:\n",
    "            break\n",
    "\n",
    "    if html:\n",
    "        rows = soup.find('table', {'id': 'team_misc'}) \\\n",
    "                   .find('tbody').find_all('tr')\n",
    "        \n",
    "        for row in rows:\n",
    "            if row.find('th', {'data-stat': 'player'}).text == 'Team':\n",
    "                name = 'Team_'\n",
    "            else:\n",
    "                name = 'LgRank_'\n",
    "                \n",
    "            data[start+name+'W'] = int(row.find('td', {'data-stat': 'wins'}).text)\n",
    "            data[start+name+'L'] = int(row.find('td', {'data-stat': 'losses'}).text)\n",
    "            data[start+name+'MOV'] = float(row.find('td', {'data-stat': 'mov'}).text)\n",
    "            data[start+name+'SRS'] = float(row.find('td', {'data-stat': 'srs'}).text)\n",
    "            data[start+name+'ORtg'] = float(row.find('td', {'data-stat': 'off_rtg'}).text)\n",
    "            data[start+name+'DRtg'] = float(row.find('td', {'data-stat': 'def_rtg'}).text)\n",
    "            data[start+name+'FTr'] = float(row.find('td', {'data-stat': 'fta_per_fga_pct'}).text)\n",
    "            data[start+name+'eFG%'] = float(row.find('td', {'data-stat': 'efg_pct'}).text)\n",
    "            data[start+name+'TOV%'] = float(row.find('td', {'data-stat': 'tov_pct'}).text)\n",
    "            data[start+name+'ORB%'] = float(row.find('td', {'data-stat': 'orb_pct'}).text)\n",
    "            data[start+name+'FT/FGA'] = float(row.find('td', {'data-stat': 'ft_rate'}).text)\n",
    "            data[start+name+'opp_eFG%'] = float(row.find('td', {'data-stat': 'opp_efg_pct'}).text)\n",
    "            data[start+name+'opp_TOV%'] = float(row.find('td', {'data-stat': 'opp_tov_pct'}).text)\n",
    "            data[start+name+'DRB%'] = float(row.find('td', {'data-stat': 'drb_pct'}).text)\n",
    "            data[start+name+'opp_FT/FGA'] = float(row.find('td', {'data-stat': 'opp_ft_rate'}).text)\n",
    "    \n",
    "    return data"
   ]
  },
  {
   "cell_type": "code",
   "execution_count": 4,
   "id": "55949b2b",
   "metadata": {
    "scrolled": true
   },
   "outputs": [
    {
     "name": "stdout",
     "output_type": "stream",
     "text": [
      "1: ATL\n",
      "2: BOS\n",
      "3: BRK\n",
      "4: CHO\n",
      "5: CHI\n",
      "6: CLE\n",
      "7: DAL\n",
      "8: DEN\n",
      "9: DET\n",
      "10: GSW\n",
      "11: HOU\n",
      "12: IND\n",
      "13: LAC\n",
      "14: LAL\n",
      "15: MEM\n",
      "16: MIA\n",
      "17: MIL\n",
      "18: MIN\n",
      "19: NOP\n",
      "20: NYK\n",
      "21: OKC\n",
      "22: ORL\n",
      "23: PHI\n",
      "24: PHO\n",
      "25: POR\n",
      "26: SAC\n",
      "27: SAS\n",
      "28: TOR\n",
      "29: UTA\n",
      "30: WAS\n"
     ]
    }
   ],
   "source": [
    "local_teams = []\n",
    "visit_teams = []\n",
    "driver = Firefox()\n",
    "for idx, team in enumerate(team_names):\n",
    "    print(f'{idx+1}: {team}')\n",
    "    \n",
    "    url = f'https://www.basketball-reference.com/teams/{team}/2023.html'\n",
    "    \n",
    "    local_team = get_team_stats('local_', url)\n",
    "    visit_team = get_team_stats('visit_', url)\n",
    "    \n",
    "    local_teams.append(local_team)\n",
    "    visit_teams.append(visit_team)\n",
    "driver.close()"
   ]
  },
  {
   "cell_type": "code",
   "execution_count": 5,
   "id": "41d50a7c",
   "metadata": {},
   "outputs": [],
   "source": [
    "local_df = pd.DataFrame(local_teams)\n",
    "visit_df = pd.DataFrame(visit_teams)\n",
    "\n",
    "local_df.to_csv('local_teams.csv', index=0)\n",
    "visit_df.to_csv('visit_teams.csv', index=0)"
   ]
  }
 ],
 "metadata": {
  "kernelspec": {
   "display_name": "Python 3 (ipykernel)",
   "language": "python",
   "name": "python3"
  },
  "language_info": {
   "codemirror_mode": {
    "name": "ipython",
    "version": 3
   },
   "file_extension": ".py",
   "mimetype": "text/x-python",
   "name": "python",
   "nbconvert_exporter": "python",
   "pygments_lexer": "ipython3",
   "version": "3.9.13"
  }
 },
 "nbformat": 4,
 "nbformat_minor": 5
}
